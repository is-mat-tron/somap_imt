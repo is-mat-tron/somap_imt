{
 "cells": [
  {
   "cell_type": "markdown",
   "metadata": {},
   "source": [
    "# Benchmark against the minisom library\n",
    "\n",
    "My hardware:\n",
    "\n",
    "- CPU: Intel i7-9750H CPU\n",
    "- GPU: NVIDIA GeForce GTX 1660 Ti\n",
    "\n",
    "SOM on a 11x13 2D map with prototype of size 28\\*28 on the 60k MNIST dataset:\n",
    "\n",
    "- MiniSom: 23s on CPU\n",
    "- Somap: 6s on CPU / 2s on GPU\n"
   ]
  },
  {
   "cell_type": "code",
   "execution_count": 1,
   "metadata": {},
   "outputs": [
    {
     "name": "stderr",
     "output_type": "stream",
     "text": [
      "An NVIDIA GPU may be present on this machine, but a CUDA-enabled jaxlib is not installed. Falling back to cpu.\n"
     ]
    }
   ],
   "source": [
    "import minisom\n",
    "import somap as smp"
   ]
  },
  {
   "cell_type": "markdown",
   "metadata": {},
   "source": [
    "## MNIST dataset\n",
    "\n",
    "Load the MNIST dataset as a (60000, 28, 28) Numpy array:\n"
   ]
  },
  {
   "cell_type": "code",
   "execution_count": 2,
   "metadata": {},
   "outputs": [],
   "source": [
    "data = smp.datasets.MNIST().data"
   ]
  },
  {
   "cell_type": "markdown",
   "metadata": {},
   "source": [
    "## Train using MiniSom:\n"
   ]
  },
  {
   "cell_type": "code",
   "execution_count": null,
   "metadata": {},
   "outputs": [],
   "source": [
    "som = minisom.MiniSom(11, 13, 28 * 28, sigma=0.3, learning_rate=0.5)\n",
    "som.train(data.reshape(60000, 28 * 28), 60000)"
   ]
  },
  {
   "cell_type": "markdown",
   "metadata": {},
   "source": [
    "## Train using Somap:\n"
   ]
  },
  {
   "cell_type": "code",
   "execution_count": 4,
   "metadata": {},
   "outputs": [],
   "source": [
    "shape = (11, 13)\n",
    "topography = \"hex\"\n",
    "borderless = False\n",
    "input_shape = (28, 28)\n",
    "params = smp.StaticKsomParams(sigma=0.3, alpha=0.5)\n",
    "\n",
    "model = smp.StaticKsom(shape, topography, borderless, input_shape, params)\n",
    "model, aux = smp.make_steps(model, {\"bu_v\": data})"
   ]
  }
 ],
 "metadata": {
  "kernelspec": {
   "display_name": ".venv",
   "language": "python",
   "name": "python3"
  },
  "language_info": {
   "codemirror_mode": {
    "name": "ipython",
    "version": 3
   },
   "file_extension": ".py",
   "mimetype": "text/x-python",
   "name": "python",
   "nbconvert_exporter": "python",
   "pygments_lexer": "ipython3",
   "version": "3.11.6"
  }
 },
 "nbformat": 4,
 "nbformat_minor": 2
}
